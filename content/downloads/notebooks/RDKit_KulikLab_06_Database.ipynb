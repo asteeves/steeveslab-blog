{
 "metadata": {
  "name": "",
  "signature": "sha256:6cde83bc3c3a391726881e96a904368cdacd3c21a5516dce6a4c335cbe64ada7"
 },
 "nbformat": 3,
 "nbformat_minor": 0,
 "worksheets": [
  {
   "cells": [
    {
     "cell_type": "heading",
     "level": 1,
     "metadata": {},
     "source": [
      "Interacting with chemical databases"
     ]
    },
    {
     "cell_type": "code",
     "collapsed": false,
     "input": [
      "from rdkit import Chem\n",
      "from rdkit.Chem import AllChem\n",
      "from rdkit.Chem.Draw import IPythonConsole\n",
      "from rdkit.Chem.Draw import MolDrawing, DrawingOptions"
     ],
     "language": "python",
     "metadata": {},
     "outputs": [],
     "prompt_number": 1
    },
    {
     "cell_type": "code",
     "collapsed": false,
     "input": [
      "DrawingOptions.bondLineWidth=1.8\n",
      "DrawingOptions.atomLabelFontSize=14"
     ],
     "language": "python",
     "metadata": {},
     "outputs": [],
     "prompt_number": 2
    },
    {
     "cell_type": "markdown",
     "metadata": {},
     "source": [
      "Relational databases are commonly used to store complex, linked data. They are also heavily optimized for rapid data access. A useful part of RDKit is a [\"cartridge\"](http://www.rdkit.org/docs/Cartridge.html) to modify the behavior of a relational database to allow it to act on the sorts of molecular information that we are concerned with:"
     ]
    },
    {
     "cell_type": "code",
     "collapsed": false,
     "input": [],
     "language": "python",
     "metadata": {},
     "outputs": []
    }
   ],
   "metadata": {}
  }
 ]
}