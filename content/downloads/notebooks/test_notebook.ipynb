{
 "metadata": {
  "name": "",
  "signature": "sha256:13345a0da7bf0f7dee5e0244c02b63c8f1149e14fe18c922bb477ff1f240bd62"
 },
 "nbformat": 3,
 "nbformat_minor": 0,
 "worksheets": [
  {
   "cells": [
    {
     "cell_type": "heading",
     "level": 1,
     "metadata": {},
     "source": [
      "This is the heading of my notebook"
     ]
    },
    {
     "cell_type": "code",
     "collapsed": false,
     "input": [
      "print 'Hello, friends.'"
     ],
     "language": "python",
     "metadata": {},
     "outputs": [
      {
       "output_type": "stream",
       "stream": "stdout",
       "text": [
        "Hello, friends.\n"
       ]
      }
     ],
     "prompt_number": 1
    },
    {
     "cell_type": "markdown",
     "metadata": {},
     "source": [
      "I hardcoded a couple of hacks to get \"smart quotes\" from Markdown both inside and outside of the notebook cells. I am sure I will regret these sooner or later."
     ]
    }
   ],
   "metadata": {}
  }
 ]
}
