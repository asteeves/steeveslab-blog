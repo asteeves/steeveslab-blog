{
 "metadata": {
  "name": "",
  "signature": "sha256:17005347c0e0e3fa5e6046c24e95d12df74ceab34f286c4ce90b79e3f6d2e117"
 },
 "nbformat": 3,
 "nbformat_minor": 0,
 "worksheets": [
  {
   "cells": [
    {
     "cell_type": "heading",
     "level": 1,
     "metadata": {},
     "source": [
      "Measuring and plotting molecular coordinates from generated conformations"
     ]
    },
    {
     "cell_type": "code",
     "collapsed": false,
     "input": [
      "from rdkit import Chem\n",
      "from rdkit.Chem import AllChem\n",
      "from rdkit.Chem.Draw import IPythonConsole\n",
      "from rdkit.Chem import PyMol\n",
      "import cPickle as pickle"
     ],
     "language": "python",
     "metadata": {},
     "outputs": [],
     "prompt_number": 43
    },
    {
     "cell_type": "code",
     "collapsed": false,
     "input": [
      "ibuH = pickle.load(open('ibuH_confs.pkl','rb'))"
     ],
     "language": "python",
     "metadata": {},
     "outputs": [],
     "prompt_number": 44
    },
    {
     "cell_type": "code",
     "collapsed": false,
     "input": [
      "confs = ibuH.GetConformers()"
     ],
     "language": "python",
     "metadata": {},
     "outputs": [],
     "prompt_number": 45
    },
    {
     "cell_type": "markdown",
     "metadata": {},
     "source": [
      "We might be interested in the distribution of a particular coordinate in our set of molecular conformations. These can be accessed using a list comprehension, in which the function call to `GetDihedralConfDegree` takes as arguments the RDKit conformation object and the four atom ids describing the dihedral to be measured:"
     ]
    },
    {
     "cell_type": "code",
     "collapsed": false,
     "input": [
      "diheds = [Chem.rdMolTransforms.GetDihedralDeg(conf,1,3,4,5) for conf in confs]"
     ],
     "language": "python",
     "metadata": {},
     "outputs": [],
     "prompt_number": 46
    },
    {
     "cell_type": "markdown",
     "metadata": {},
     "source": [
      "We could print out this list, but it is too long to get much intution from. A better choice is to make a quick histogram of the distribution of angles. We can do this quickly using matplotlib:"
     ]
    },
    {
     "cell_type": "code",
     "collapsed": false,
     "input": [
      "%matplotlib inline \n",
      "import matplotlib.pyplot as plt"
     ],
     "language": "python",
     "metadata": {},
     "outputs": [],
     "prompt_number": 47
    },
    {
     "cell_type": "code",
     "collapsed": false,
     "input": [
      "plt.style.use('ggplot')"
     ],
     "language": "python",
     "metadata": {},
     "outputs": [],
     "prompt_number": 48
    },
    {
     "cell_type": "code",
     "collapsed": false,
     "input": [
      "fig,ax = plt.subplots()\n",
      "n,bins,patches = ax.hist(diheds,bins=36)\n",
      "ax.set_xlabel('Dihedral Angle')\n",
      "ax.set_ylabel('Counts');"
     ],
     "language": "python",
     "metadata": {},
     "outputs": [
      {
       "metadata": {},
       "output_type": "display_data",
       "png": "[encoded data removed]",
       "text": [
        "<matplotlib.figure.Figure at 0x109a66690>"
       ]
      }
     ],
     "prompt_number": 49
    },
    {
     "cell_type": "markdown",
     "metadata": {},
     "source": [
      "It appears that there are six major peaks in the distribution with approximate symmetry around the plane of the benzene ring (0 degrees)."
     ]
    },
    {
     "cell_type": "code",
     "collapsed": false,
     "input": [
      "v= PyMol.MolViewer()"
     ],
     "language": "python",
     "metadata": {},
     "outputs": [],
     "prompt_number": 50
    },
    {
     "cell_type": "code",
     "collapsed": false,
     "input": [
      "v.DeleteAll()\n",
      "for cid,conf in enumerate(confs): \n",
      "    v.ShowMol(ibuH,confId=cid,name='Conf-%d'%cid,showOnly=False)"
     ],
     "language": "python",
     "metadata": {},
     "outputs": [],
     "prompt_number": 51
    },
    {
     "cell_type": "code",
     "collapsed": false,
     "input": [
      "v.server.do('ray')\n",
      "v.GetPNG()"
     ],
     "language": "python",
     "metadata": {},
     "outputs": []
    },
    {
     "cell_type": "markdown",
     "metadata": {},
     "source": [
      "We can see the six clusters of dihedral angles if we stare down the bond that is rotated."
     ]
    }
   ],
   "metadata": {}
  }
 ]
}