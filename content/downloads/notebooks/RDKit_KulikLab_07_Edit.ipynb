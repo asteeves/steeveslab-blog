{
 "metadata": {
  "name": "",
  "signature": "sha256:174dcbfa315041438818c05a6ffec631f1fd70ed9cb2ad396c1b67d8b4aa9ef1"
 },
 "nbformat": 3,
 "nbformat_minor": 0,
 "worksheets": [
  {
   "cells": [
    {
     "cell_type": "heading",
     "level": 1,
     "metadata": {},
     "source": [
      "Edit and merge molecules in RDKit"
     ]
    },
    {
     "cell_type": "code",
     "collapsed": false,
     "input": [
      "from rdkit import Chem\n",
      "from rdkit.Chem import AllChem\n",
      "from rdkit.Chem.Draw import IPythonConsole\n",
      "from rdkit.Chem.Draw import MolDrawing, DrawingOptions"
     ],
     "language": "python",
     "metadata": {},
     "outputs": [],
     "prompt_number": 55
    },
    {
     "cell_type": "code",
     "collapsed": false,
     "input": [
      "DrawingOptions.bondLineWidth=1.8\n",
      "DrawingOptions.atomLabelFontSize=14\n",
      "DrawingOptions.includeAtomNumbers=False"
     ],
     "language": "python",
     "metadata": {},
     "outputs": [],
     "prompt_number": 56
    },
    {
     "cell_type": "markdown",
     "metadata": {},
     "source": [
      "Create new molecule from a SMILES string:"
     ]
    },
    {
     "cell_type": "code",
     "collapsed": false,
     "input": [
      "start_mol = Chem.MolFromSmiles('c1cc(CCCO)ccc1')"
     ],
     "language": "python",
     "metadata": {},
     "outputs": [],
     "prompt_number": 57
    },
    {
     "cell_type": "code",
     "collapsed": false,
     "input": [
      "start_mol"
     ],
     "language": "python",
     "metadata": {},
     "outputs": [
      {
       "metadata": {},
       "output_type": "pyout",
       "png": "[encoded data removed]",
       "prompt_number": 58,
       "text": [
        "<rdkit.Chem.rdchem.Mol at 0x1069e3600>"
       ]
      }
     ],
     "prompt_number": 58
    },
    {
     "cell_type": "markdown",
     "metadata": {},
     "source": [
      "Let's try to delete some atoms by matching a simple pattern:"
     ]
    },
    {
     "cell_type": "code",
     "collapsed": false,
     "input": [
      "truncate = Chem.DeleteSubstructs(start_mol,Chem.MolFromSmiles('O'))\n",
      "truncate"
     ],
     "language": "python",
     "metadata": {},
     "outputs": [
      {
       "metadata": {},
       "output_type": "pyout",
       "png": "[encoded data removed]",
       "prompt_number": 59,
       "text": [
        "<rdkit.Chem.rdchem.Mol at 0x1069e36e0>"
       ]
      }
     ],
     "prompt_number": 59
    },
    {
     "cell_type": "markdown",
     "metadata": {},
     "source": [
      "Now we will build a fragment that we want to connect:"
     ]
    },
    {
     "cell_type": "code",
     "collapsed": false,
     "input": [
      "mod = Chem.MolFromSmiles('OC=O')\n",
      "mod"
     ],
     "language": "python",
     "metadata": {},
     "outputs": [
      {
       "metadata": {},
       "output_type": "pyout",
       "png": "[encoded data removed]",
       "prompt_number": 60,
       "text": [
        "<rdkit.Chem.rdchem.Mol at 0x1069e3ec0>"
       ]
      }
     ],
     "prompt_number": 60
    },
    {
     "cell_type": "markdown",
     "metadata": {},
     "source": [
      "Combine them into one molecule object:"
     ]
    },
    {
     "cell_type": "code",
     "collapsed": false,
     "input": [
      "combo = Chem.CombineMols(truncate,mod)\n",
      "combo"
     ],
     "language": "python",
     "metadata": {},
     "outputs": [
      {
       "metadata": {},
       "output_type": "pyout",
       "png": "[encoded data removed]",
       "prompt_number": 61,
       "text": [
        "<rdkit.Chem.rdchem.Mol at 0x1069e3f30>"
       ]
      }
     ],
     "prompt_number": 61
    },
    {
     "cell_type": "markdown",
     "metadata": {},
     "source": [
      "Here the molecules are merged into a single molecule object, but are still separate fragments. Let's see what this looks like in a SMILES string:"
     ]
    },
    {
     "cell_type": "code",
     "collapsed": false,
     "input": [
      "Chem.MolToSmiles(combo)"
     ],
     "language": "python",
     "metadata": {},
     "outputs": [
      {
       "metadata": {},
       "output_type": "pyout",
       "prompt_number": 62,
       "text": [
        "'CCCc1ccccc1.O=CO'"
       ]
      }
     ],
     "prompt_number": 62
    },
    {
     "cell_type": "markdown",
     "metadata": {},
     "source": [
      "The period (`.`) indicates that the molecule contains two unbonded fragments. No such obvious distinction appears in the connection table: "
     ]
    },
    {
     "cell_type": "code",
     "collapsed": false,
     "input": [
      "print Chem.MolToMolBlock(combo)"
     ],
     "language": "python",
     "metadata": {},
     "outputs": [
      {
       "output_type": "stream",
       "stream": "stdout",
       "text": [
        "\n",
        "     RDKit          \n",
        "\n",
        " 12 11  0  0  0  0  0  0  0  0999 V2000\n",
        "    0.0000    0.0000    0.0000 C   0  0  0  0  0  0  0  0  0  0  0  0\n",
        "    0.0000    0.0000    0.0000 C   0  0  0  0  0  0  0  0  0  0  0  0\n",
        "    0.0000    0.0000    0.0000 C   0  0  0  0  0  0  0  0  0  0  0  0\n",
        "    0.0000    0.0000    0.0000 C   0  0  0  0  0  0  0  0  0  0  0  0\n",
        "    0.0000    0.0000    0.0000 C   0  0  0  0  0  0  0  0  0  0  0  0\n",
        "    0.0000    0.0000    0.0000 C   0  0  0  0  0  0  0  0  0  0  0  0\n",
        "    0.0000    0.0000    0.0000 C   0  0  0  0  0  0  0  0  0  0  0  0\n",
        "    0.0000    0.0000    0.0000 C   0  0  0  0  0  0  0  0  0  0  0  0\n",
        "    0.0000    0.0000    0.0000 C   0  0  0  0  0  0  0  0  0  0  0  0\n",
        "    0.0000    0.0000    0.0000 O   0  0  0  0  0  0  0  0  0  0  0  0\n",
        "    0.0000    0.0000    0.0000 C   0  0  0  0  0  0  0  0  0  0  0  0\n",
        "    0.0000    0.0000    0.0000 O   0  0  0  0  0  0  0  0  0  0  0  0\n",
        "  1  2  2  0\n",
        "  2  3  1  0\n",
        "  3  4  1  0\n",
        "  4  5  1  0\n",
        "  5  6  1  0\n",
        "  3  7  2  0\n",
        "  7  8  1  0\n",
        "  8  9  2  0\n",
        "  9  1  1  0\n",
        " 10 11  1  0\n",
        " 11 12  2  0\n",
        "M  END\n",
        "\n"
       ]
      }
     ],
     "prompt_number": 63
    },
    {
     "cell_type": "markdown",
     "metadata": {},
     "source": [
      "One way to stitch these together is to make an editable copy of the molecule object, add a bond between atoms by giving the two indices of atoms to be bonded, and then turning this back into a \"normal\" molecule object. Note that indices are zero indexed even though the are 1-indexed in the mol block above"
     ]
    },
    {
     "cell_type": "code",
     "collapsed": false,
     "input": [
      "edcombo = Chem.EditableMol(combo)\n",
      "DrawingOptions.includeAtomNumbers=True"
     ],
     "language": "python",
     "metadata": {},
     "outputs": [],
     "prompt_number": 64
    },
    {
     "cell_type": "code",
     "collapsed": false,
     "input": [
      "combo"
     ],
     "language": "python",
     "metadata": {},
     "outputs": [
      {
       "metadata": {},
       "output_type": "pyout",
       "png": "[encoded data removed]",
       "prompt_number": 65,
       "text": [
        "<rdkit.Chem.rdchem.Mol at 0x1069e3f30>"
       ]
      }
     ],
     "prompt_number": 65
    },
    {
     "cell_type": "code",
     "collapsed": false,
     "input": [
      "edcombo.AddBond(5,10,order=Chem.rdchem.BondType.SINGLE)"
     ],
     "language": "python",
     "metadata": {},
     "outputs": [
      {
       "metadata": {},
       "output_type": "pyout",
       "prompt_number": 66,
       "text": [
        "12"
       ]
      }
     ],
     "prompt_number": 66
    },
    {
     "cell_type": "markdown",
     "metadata": {},
     "source": [
      "Before we can do much of anything to our newly joined molecule, we need to copy the information back into a \"normal\" molecule object."
     ]
    },
    {
     "cell_type": "code",
     "collapsed": false,
     "input": [
      "back = edcombo.GetMol()\n",
      "back"
     ],
     "language": "python",
     "metadata": {},
     "outputs": [
      {
       "metadata": {},
       "output_type": "pyout",
       "png": "[encoded data removed]",
       "prompt_number": 67,
       "text": [
        "<rdkit.Chem.rdchem.Mol at 0x106b801a0>"
       ]
      }
     ],
     "prompt_number": 67
    },
    {
     "cell_type": "heading",
     "level": 2,
     "metadata": {},
     "source": [
      "Replacing one substructure with another"
     ]
    },
    {
     "cell_type": "markdown",
     "metadata": {},
     "source": [
      "If our reason to stitch two molecules together, as in the example above, it is easier to use RDKit to replace one functional group in the molecule with another."
     ]
    },
    {
     "cell_type": "code",
     "collapsed": false,
     "input": [
      "DrawingOptions.includeAtomNumbers=False"
     ],
     "language": "python",
     "metadata": {},
     "outputs": [],
     "prompt_number": 68
    },
    {
     "cell_type": "code",
     "collapsed": false,
     "input": [
      "start_mol"
     ],
     "language": "python",
     "metadata": {},
     "outputs": [
      {
       "metadata": {},
       "output_type": "pyout",
       "png": "[encoded data removed]",
       "prompt_number": 69,
       "text": [
        "<rdkit.Chem.rdchem.Mol at 0x1069e3600>"
       ]
      }
     ],
     "prompt_number": 69
    },
    {
     "cell_type": "code",
     "collapsed": false,
     "input": [
      "mod_mol = Chem.ReplaceSubstructs(start_mol, \n",
      "                                 Chem.MolFromSmiles('CO'), \n",
      "                                 Chem.MolFromSmiles('C(=O)O'),\n",
      "                                 replaceAll=True)"
     ],
     "language": "python",
     "metadata": {},
     "outputs": [],
     "prompt_number": 70
    },
    {
     "cell_type": "code",
     "collapsed": false,
     "input": [
      "mod_mol"
     ],
     "language": "python",
     "metadata": {},
     "outputs": [
      {
       "metadata": {},
       "output_type": "pyout",
       "prompt_number": 72,
       "text": [
        "(<rdkit.Chem.rdchem.Mol at 0x1069e6578>,)"
       ]
      }
     ],
     "prompt_number": 72
    },
    {
     "cell_type": "markdown",
     "metadata": {},
     "source": [
      "We can start to see how RDKit will be useful for handling chemical reactions."
     ]
    }
   ],
   "metadata": {}
  }
 ]
}